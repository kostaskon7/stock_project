{
 "cells": [
  {
   "cell_type": "markdown",
   "metadata": {},
   "source": [
    "#                                 Project for neuro-fuzzy computing\n",
    "\n",
    "\n",
    "##                         Konstantinos Konstntinidis 2546 Stavrinos Nikolaos 2631\n",
    "\n",
    "Για τη παρουσίαση του project μας επιλέξαμε να τρέξουμε τον κώδικα τοπικά στο jupiter notebook σε environment του tensorflow για cpu έτσι ώστε να μπορέσουμε να περιγράψουμε κάθε κομμάτι του κώδικα ξεχωριστά.\n",
    "\n"
   ]
  },
  {
   "cell_type": "markdown",
   "metadata": {},
   "source": [
    "## Επιλέγουμε να κάνουμε train το μοντέλο μας με χρηση της τιμής close από τη κατανομή"
   ]
  },
  {
   "cell_type": "code",
   "execution_count": 1,
   "metadata": {},
   "outputs": [
    {
     "name": "stdout",
     "output_type": "stream",
     "text": [
      "[[663.59]\n",
      " [666.45]\n",
      " [657.21]\n",
      " ...\n",
      " [785.05]\n",
      " [782.79]\n",
      " [771.82]]\n"
     ]
    }
   ],
   "source": [
    "# Importing the libraries\n",
    "import numpy as np\n",
    "import matplotlib.pyplot as plt\n",
    "import pandas as pd\n",
    "import time\n",
    "\n",
    "# Importing the Keras libraries and packages\n",
    "from tensorflow.keras.models import Sequential\n",
    "from tensorflow.keras.layers import Dense\n",
    "from tensorflow.keras.layers import LSTM\n",
    "from tensorflow.keras.layers import Dropout\n",
    "from tensorflow.keras import optimizers\n",
    "\n",
    "# Importing the training set\n",
    "dataset_train = pd.read_excel('Stock_Price_Training_Data.xlsx')\n",
    "training_set = dataset_train.iloc[:,4:5].values\n",
    "print(training_set)"
   ]
  },
  {
   "cell_type": "markdown",
   "metadata": {},
   "source": [
    "## Χρησιμοποιυμε scaling των τιμων απο -1 εως 1 \n",
    "καθως με μεγαλες τιμες το training γινεται ασταθες που σημαίνει ότι μπορεί να υποφέρει από κακή απόδοση κατά τη διάρκεια της μάθησης, με αποτέλεσμα υψηλότερο generalization error."
   ]
  },
  {
   "cell_type": "code",
   "execution_count": 2,
   "metadata": {},
   "outputs": [],
   "source": [
    "# Feature Scaling\n",
    "from sklearn.preprocessing import MinMaxScaler\n",
    "sc = MinMaxScaler(feature_range = (-1, 1))\n",
    "training_set_scaled = sc.fit_transform(training_set)"
   ]
  },
  {
   "cell_type": "markdown",
   "metadata": {},
   "source": [
    "# Τα δεδομενα μας θα βασιζονται σε προβλεψη 60 timesteps και 1 output\n",
    " πρόκειται να προβλέψουμε την τιμή της μετοχής όταν ανοίγει με βάση τις τιμές μετοχών για τις τελευταίες 60 ημέρες και χρησιμοποιουμε όλες από τις 1258 τιμές που μας δίνονται."
   ]
  },
  {
   "cell_type": "code",
   "execution_count": 3,
   "metadata": {},
   "outputs": [],
   "source": [
    "X_train = []\n",
    "y_train = []\n",
    "for i in range(60, 1258):\n",
    "    X_train.append(training_set_scaled[i-60:i, 0])\n",
    "    y_train.append(training_set_scaled[i, 0])\n",
    "X_train, y_train = np.array(X_train), np.array(y_train)"
   ]
  },
  {
   "cell_type": "markdown",
   "metadata": {},
   "source": [
    "## Reshaping\n",
    "τα Frameworks όπως Keras / TensorFlow / PyTorch απαιτούν το σύνολο δεδομένων να γίνει reshaped σε άλλη διάσταση που την καθορίζει η δεύτερη του παράμετρος https://www.tensorflow.org/api_docs/python/tf/reshape"
   ]
  },
  {
   "cell_type": "code",
   "execution_count": 4,
   "metadata": {},
   "outputs": [],
   "source": [
    "X_train = np.reshape(X_train, (X_train.shape[0], X_train.shape[1], 1))"
   ]
  },
  {
   "cell_type": "markdown",
   "metadata": {},
   "source": [
    "# Building the reccurent neural network for our prediction"
   ]
  },
  {
   "cell_type": "markdown",
   "metadata": {},
   "source": [
    "## Initialising the RNN\n",
    "\n",
    "Επιλεξαμε την LSTM καθως μπορει να απομνημονεύσει πληροφορίες για μεγάλα χρονικά διαστήματα, και ειναι χρησιμη για μεγαλα input \n",
    "files με training data,οπως στη δικια μας περιπτωση.\n",
    "\n",
    "## Χρησιμοποιόυμε 4 layers της LSTM"
   ]
  },
  {
   "cell_type": "code",
   "execution_count": 5,
   "metadata": {},
   "outputs": [],
   "source": [
    "regressor = Sequential()\n",
    "\n",
    "# Adding the first LSTM layer and some Dropout regularisation\n",
    "regressor.add(LSTM(units = 100,return_sequences = True,input_shape = (X_train.shape[1], 1)))\n",
    "#regressor.add(Dropout(0.1))\n",
    "\n",
    "# Adding a second LSTM layer and some Dropout regularisation\n",
    "regressor.add(LSTM(units = 100, return_sequences = True))\n",
    "#regressor.add(Dropout(0.1))\n",
    "\n",
    "# Adding a third LSTM layer and some Dropout regularisation\n",
    "regressor.add(LSTM(units = 100, return_sequences = True))\n",
    "#regressor.add(Dropout(0.1))\n",
    "\n",
    "# Adding a fourth LSTM layer and some Dropout regularisation\n",
    "regressor.add(LSTM(units = 100))\n",
    "#regressor.add(Dropout(0.1))\n",
    "\n",
    "# Adding the output layer\n",
    "regressor.add(Dense(units = 1))"
   ]
  },
  {
   "cell_type": "code",
   "execution_count": 6,
   "metadata": {},
   "outputs": [
    {
     "name": "stdout",
     "output_type": "stream",
     "text": [
      "Model: \"sequential\"\n",
      "_________________________________________________________________\n",
      "Layer (type)                 Output Shape              Param #   \n",
      "=================================================================\n",
      "lstm (LSTM)                  (None, 60, 100)           40800     \n",
      "_________________________________________________________________\n",
      "lstm_1 (LSTM)                (None, 60, 100)           80400     \n",
      "_________________________________________________________________\n",
      "lstm_2 (LSTM)                (None, 60, 100)           80400     \n",
      "_________________________________________________________________\n",
      "lstm_3 (LSTM)                (None, 100)               80400     \n",
      "_________________________________________________________________\n",
      "dense (Dense)                (None, 1)                 101       \n",
      "=================================================================\n",
      "Total params: 282,101\n",
      "Trainable params: 282,101\n",
      "Non-trainable params: 0\n",
      "_________________________________________________________________\n"
     ]
    }
   ],
   "source": [
    "regressor.summary()"
   ]
  },
  {
   "cell_type": "markdown",
   "metadata": {},
   "source": [
    "## Setting the optimizer\n",
    "## Χρησιμοποιούμε τον [adam](https://www.tensorflow.org/api_docs/python/tf/keras/optimizers/Adam) με τις βασικές παραμέτρους του όπως χρησιμοποιόυνται και στο site του tensorflow\n",
    "Ο Adam είναι ένας αλγόριθμος βελτιστοποίησης που μπορεί να χρησιμοποιηθεί αντί της διαδικασίας της κλασικής stochastic gradient descent για την ενημέρωση επαναληπτικών βαρών δικτύου με βάση τα δεδομένα εκπαίδευσης."
   ]
  },
  {
   "cell_type": "code",
   "execution_count": 7,
   "metadata": {},
   "outputs": [],
   "source": [
    "optimizer = optimizers.Adam(lr=0.001 , beta_1=0.9, beta_2=0.999, epsilon=None, decay=0.0, amsgrad=False)\n"
   ]
  },
  {
   "cell_type": "markdown",
   "metadata": {},
   "source": [
    "## Loss function\n",
    "Ορίζουμε ως loss function μας την [mean_squared_error](https://keras.io/api/losses/regression_losses/#mean_squared_error-function)\n"
   ]
  },
  {
   "cell_type": "code",
   "execution_count": 8,
   "metadata": {},
   "outputs": [],
   "source": [
    "regressor.compile(optimizer = optimizer, loss = 'mean_squared_error', metrics=['accuracy'])\n"
   ]
  },
  {
   "cell_type": "markdown",
   "metadata": {},
   "source": [
    "## Start the training"
   ]
  },
  {
   "cell_type": "code",
   "execution_count": 9,
   "metadata": {},
   "outputs": [
    {
     "name": "stdout",
     "output_type": "stream",
     "text": [
      "Epoch 1/100\n",
      "38/38 [==============================] - 5s 120ms/step - loss: 0.0580 - accuracy: 8.3472e-04\n",
      "Epoch 2/100\n",
      "38/38 [==============================] - 4s 116ms/step - loss: 0.0247 - accuracy: 8.3472e-04\n",
      "Epoch 3/100\n",
      "38/38 [==============================] - 4s 111ms/step - loss: 0.0182 - accuracy: 8.3472e-04\n",
      "Epoch 4/100\n",
      "38/38 [==============================] - 4s 117ms/step - loss: 0.0154 - accuracy: 8.3472e-04\n",
      "Epoch 5/100\n",
      "38/38 [==============================] - 4s 117ms/step - loss: 0.0134 - accuracy: 8.3472e-04\n",
      "Epoch 6/100\n",
      "38/38 [==============================] - 4s 113ms/step - loss: 0.0124 - accuracy: 8.3472e-04\n",
      "Epoch 7/100\n",
      "38/38 [==============================] - 4s 106ms/step - loss: 0.0105 - accuracy: 8.3472e-04\n",
      "Epoch 8/100\n",
      "38/38 [==============================] - 4s 108ms/step - loss: 0.0095 - accuracy: 8.3472e-04\n",
      "Epoch 9/100\n",
      "38/38 [==============================] - 4s 114ms/step - loss: 0.0091 - accuracy: 8.3472e-04\n",
      "Epoch 10/100\n",
      "38/38 [==============================] - 4s 108ms/step - loss: 0.0089 - accuracy: 8.3472e-04\n",
      "Epoch 11/100\n",
      "38/38 [==============================] - 4s 107ms/step - loss: 0.0090 - accuracy: 8.3472e-04\n",
      "Epoch 12/100\n",
      "38/38 [==============================] - 4s 107ms/step - loss: 0.0089 - accuracy: 8.3472e-04\n",
      "Epoch 13/100\n",
      "38/38 [==============================] - 4s 107ms/step - loss: 0.0073 - accuracy: 8.3472e-04\n",
      "Epoch 14/100\n",
      "38/38 [==============================] - 4s 109ms/step - loss: 0.0077 - accuracy: 8.3472e-04\n",
      "Epoch 15/100\n",
      "38/38 [==============================] - 4s 106ms/step - loss: 0.0063 - accuracy: 8.3472e-04\n",
      "Epoch 16/100\n",
      "38/38 [==============================] - 4s 112ms/step - loss: 0.0057 - accuracy: 8.3472e-04\n",
      "Epoch 17/100\n",
      "38/38 [==============================] - 4s 108ms/step - loss: 0.0050 - accuracy: 8.3472e-04\n",
      "Epoch 18/100\n",
      "38/38 [==============================] - 4s 107ms/step - loss: 0.0056 - accuracy: 8.3472e-04\n",
      "Epoch 19/100\n",
      "38/38 [==============================] - 4s 107ms/step - loss: 0.0048 - accuracy: 8.3472e-04\n",
      "Epoch 20/100\n",
      "38/38 [==============================] - 4s 108ms/step - loss: 0.0046 - accuracy: 8.3472e-04\n",
      "Epoch 21/100\n",
      "38/38 [==============================] - 4s 106ms/step - loss: 0.0044 - accuracy: 8.3472e-04\n",
      "Epoch 22/100\n",
      "38/38 [==============================] - 4s 107ms/step - loss: 0.0043 - accuracy: 8.3472e-04\n",
      "Epoch 23/100\n",
      "38/38 [==============================] - 4s 106ms/step - loss: 0.0042 - accuracy: 8.3472e-04\n",
      "Epoch 24/100\n",
      "38/38 [==============================] - 4s 107ms/step - loss: 0.0046 - accuracy: 8.3472e-04\n",
      "Epoch 25/100\n",
      "38/38 [==============================] - 4s 106ms/step - loss: 0.0041 - accuracy: 8.3472e-04\n",
      "Epoch 26/100\n",
      "38/38 [==============================] - 4s 106ms/step - loss: 0.0041 - accuracy: 8.3472e-04\n",
      "Epoch 27/100\n",
      "38/38 [==============================] - 4s 107ms/step - loss: 0.0043 - accuracy: 8.3472e-04\n",
      "Epoch 28/100\n",
      "38/38 [==============================] - 4s 107ms/step - loss: 0.0042 - accuracy: 8.3472e-04\n",
      "Epoch 29/100\n",
      "38/38 [==============================] - 4s 107ms/step - loss: 0.0042 - accuracy: 8.3472e-04\n",
      "Epoch 30/100\n",
      "38/38 [==============================] - 4s 106ms/step - loss: 0.0044 - accuracy: 8.3472e-04\n",
      "Epoch 31/100\n",
      "38/38 [==============================] - 4s 108ms/step - loss: 0.0037 - accuracy: 8.3472e-04\n",
      "Epoch 32/100\n",
      "38/38 [==============================] - 4s 111ms/step - loss: 0.0035 - accuracy: 8.3472e-04\n",
      "Epoch 33/100\n",
      "38/38 [==============================] - 4s 106ms/step - loss: 0.0035 - accuracy: 8.3472e-04\n",
      "Epoch 34/100\n",
      "38/38 [==============================] - 4s 106ms/step - loss: 0.0037 - accuracy: 8.3472e-04\n",
      "Epoch 35/100\n",
      "38/38 [==============================] - 4s 107ms/step - loss: 0.0035 - accuracy: 8.3472e-04\n",
      "Epoch 36/100\n",
      "38/38 [==============================] - 4s 107ms/step - loss: 0.0044 - accuracy: 8.3472e-04\n",
      "Epoch 37/100\n",
      "38/38 [==============================] - 4s 106ms/step - loss: 0.0036 - accuracy: 8.3472e-04\n",
      "Epoch 38/100\n",
      "38/38 [==============================] - 4s 107ms/step - loss: 0.0038 - accuracy: 8.3472e-04\n",
      "Epoch 39/100\n",
      "38/38 [==============================] - 4s 107ms/step - loss: 0.0036 - accuracy: 8.3472e-04\n",
      "Epoch 40/100\n",
      "38/38 [==============================] - 4s 106ms/step - loss: 0.0036 - accuracy: 8.3472e-04\n",
      "Epoch 41/100\n",
      "38/38 [==============================] - 4s 106ms/step - loss: 0.0041 - accuracy: 8.3472e-04\n",
      "Epoch 42/100\n",
      "38/38 [==============================] - 4s 108ms/step - loss: 0.0039 - accuracy: 8.3472e-04\n",
      "Epoch 43/100\n",
      "38/38 [==============================] - 4s 110ms/step - loss: 0.0036 - accuracy: 8.3472e-04\n",
      "Epoch 44/100\n",
      "38/38 [==============================] - 4s 109ms/step - loss: 0.0036 - accuracy: 8.3472e-04\n",
      "Epoch 45/100\n",
      "38/38 [==============================] - 4s 108ms/step - loss: 0.0034 - accuracy: 8.3472e-04\n",
      "Epoch 46/100\n",
      "38/38 [==============================] - 4s 106ms/step - loss: 0.0034 - accuracy: 8.3472e-04\n",
      "Epoch 47/100\n",
      "38/38 [==============================] - 4s 111ms/step - loss: 0.0037 - accuracy: 8.3472e-04\n",
      "Epoch 48/100\n",
      "38/38 [==============================] - 4s 108ms/step - loss: 0.0033 - accuracy: 8.3472e-04\n",
      "Epoch 49/100\n",
      "38/38 [==============================] - 4s 107ms/step - loss: 0.0032 - accuracy: 8.3472e-04\n",
      "Epoch 50/100\n",
      "38/38 [==============================] - 4s 106ms/step - loss: 0.0032 - accuracy: 8.3472e-04\n",
      "Epoch 51/100\n",
      "38/38 [==============================] - 4s 107ms/step - loss: 0.0034 - accuracy: 8.3472e-04\n",
      "Epoch 52/100\n",
      "38/38 [==============================] - 4s 107ms/step - loss: 0.0032 - accuracy: 8.3472e-04\n",
      "Epoch 53/100\n",
      "38/38 [==============================] - 4s 108ms/step - loss: 0.0031 - accuracy: 8.3472e-04\n",
      "Epoch 54/100\n",
      "38/38 [==============================] - 4s 110ms/step - loss: 0.0032 - accuracy: 8.3472e-04\n",
      "Epoch 55/100\n",
      "38/38 [==============================] - 4s 107ms/step - loss: 0.0031 - accuracy: 8.3472e-04\n",
      "Epoch 56/100\n",
      "38/38 [==============================] - 4s 106ms/step - loss: 0.0030 - accuracy: 8.3472e-04\n",
      "Epoch 57/100\n",
      "38/38 [==============================] - 4s 106ms/step - loss: 0.0034 - accuracy: 8.3472e-04\n",
      "Epoch 58/100\n",
      "38/38 [==============================] - 4s 107ms/step - loss: 0.0033 - accuracy: 8.3472e-04\n",
      "Epoch 59/100\n",
      "38/38 [==============================] - 4s 107ms/step - loss: 0.0034 - accuracy: 8.3472e-04\n",
      "Epoch 60/100\n",
      "38/38 [==============================] - 4s 108ms/step - loss: 0.0030 - accuracy: 8.3472e-04\n",
      "Epoch 61/100\n",
      "38/38 [==============================] - 4s 110ms/step - loss: 0.0031 - accuracy: 8.3472e-04\n",
      "Epoch 62/100\n",
      "38/38 [==============================] - 4s 108ms/step - loss: 0.0030 - accuracy: 8.3472e-04\n",
      "Epoch 63/100\n",
      "38/38 [==============================] - 4s 111ms/step - loss: 0.0034 - accuracy: 8.3472e-04\n",
      "Epoch 64/100\n",
      "38/38 [==============================] - 4s 107ms/step - loss: 0.0032 - accuracy: 8.3472e-04\n",
      "Epoch 65/100\n",
      "38/38 [==============================] - 4s 106ms/step - loss: 0.0031 - accuracy: 8.3472e-04\n",
      "Epoch 66/100\n",
      "38/38 [==============================] - 4s 107ms/step - loss: 0.0031 - accuracy: 8.3472e-04\n",
      "Epoch 67/100\n",
      "38/38 [==============================] - 4s 106ms/step - loss: 0.0030 - accuracy: 8.3472e-04\n",
      "Epoch 68/100\n",
      "38/38 [==============================] - 4s 106ms/step - loss: 0.0032 - accuracy: 8.3472e-04\n",
      "Epoch 69/100\n",
      "38/38 [==============================] - 4s 106ms/step - loss: 0.0030 - accuracy: 8.3472e-04\n",
      "Epoch 70/100\n",
      "38/38 [==============================] - 4s 107ms/step - loss: 0.0031 - accuracy: 8.3472e-04\n",
      "Epoch 71/100\n",
      "38/38 [==============================] - 4s 106ms/step - loss: 0.0033 - accuracy: 8.3472e-04\n",
      "Epoch 72/100\n",
      "38/38 [==============================] - 4s 106ms/step - loss: 0.0033 - accuracy: 8.3472e-04\n",
      "Epoch 73/100\n",
      "38/38 [==============================] - 4s 108ms/step - loss: 0.0030 - accuracy: 8.3472e-04\n",
      "Epoch 74/100\n",
      "38/38 [==============================] - 4s 110ms/step - loss: 0.0033 - accuracy: 8.3472e-04\n",
      "Epoch 75/100\n",
      "38/38 [==============================] - 4s 108ms/step - loss: 0.0031 - accuracy: 8.3472e-04\n",
      "Epoch 76/100\n",
      "38/38 [==============================] - 4s 109ms/step - loss: 0.0033 - accuracy: 8.3472e-04\n",
      "Epoch 77/100\n",
      "38/38 [==============================] - 5s 123ms/step - loss: 0.0030 - accuracy: 8.3472e-04\n",
      "Epoch 78/100\n"
     ]
    },
    {
     "name": "stdout",
     "output_type": "stream",
     "text": [
      "38/38 [==============================] - 4s 116ms/step - loss: 0.0031 - accuracy: 8.3472e-04\n",
      "Epoch 79/100\n",
      "38/38 [==============================] - 4s 107ms/step - loss: 0.0029 - accuracy: 8.3472e-04\n",
      "Epoch 80/100\n",
      "38/38 [==============================] - 4s 108ms/step - loss: 0.0032 - accuracy: 8.3472e-04\n",
      "Epoch 81/100\n",
      "38/38 [==============================] - 4s 114ms/step - loss: 0.0033 - accuracy: 8.3472e-04\n",
      "Epoch 82/100\n",
      "38/38 [==============================] - 4s 109ms/step - loss: 0.0033 - accuracy: 8.3472e-04\n",
      "Epoch 83/100\n",
      "38/38 [==============================] - 4s 112ms/step - loss: 0.0029 - accuracy: 8.3472e-04\n",
      "Epoch 84/100\n",
      "38/38 [==============================] - 4s 111ms/step - loss: 0.0029 - accuracy: 8.3472e-04\n",
      "Epoch 85/100\n",
      "38/38 [==============================] - 4s 108ms/step - loss: 0.0030 - accuracy: 8.3472e-04\n",
      "Epoch 86/100\n",
      "38/38 [==============================] - 4s 106ms/step - loss: 0.0031 - accuracy: 8.3472e-04\n",
      "Epoch 87/100\n",
      "38/38 [==============================] - 4s 106ms/step - loss: 0.0030 - accuracy: 8.3472e-04\n",
      "Epoch 88/100\n",
      "38/38 [==============================] - 4s 107ms/step - loss: 0.0030 - accuracy: 8.3472e-04\n",
      "Epoch 89/100\n",
      "38/38 [==============================] - 4s 107ms/step - loss: 0.0031 - accuracy: 8.3472e-04\n",
      "Epoch 90/100\n",
      "38/38 [==============================] - 4s 106ms/step - loss: 0.0031 - accuracy: 8.3472e-04\n",
      "Epoch 91/100\n",
      "38/38 [==============================] - 4s 106ms/step - loss: 0.0029 - accuracy: 8.3472e-04\n",
      "Epoch 92/100\n",
      "38/38 [==============================] - 4s 107ms/step - loss: 0.0030 - accuracy: 8.3472e-04\n",
      "Epoch 93/100\n",
      "38/38 [==============================] - 4s 107ms/step - loss: 0.0031 - accuracy: 8.3472e-04\n",
      "Epoch 94/100\n",
      "38/38 [==============================] - 4s 110ms/step - loss: 0.0031 - accuracy: 8.3472e-04\n",
      "Epoch 95/100\n",
      "38/38 [==============================] - 4s 106ms/step - loss: 0.0029 - accuracy: 8.3472e-04\n",
      "Epoch 96/100\n",
      "38/38 [==============================] - 4s 107ms/step - loss: 0.0031 - accuracy: 8.3472e-04\n",
      "Epoch 97/100\n",
      "38/38 [==============================] - 4s 107ms/step - loss: 0.0030 - accuracy: 8.3472e-04\n",
      "Epoch 98/100\n",
      "38/38 [==============================] - 4s 106ms/step - loss: 0.0030 - accuracy: 8.3472e-04\n",
      "Epoch 99/100\n",
      "38/38 [==============================] - 4s 106ms/step - loss: 0.0028 - accuracy: 8.3472e-04\n",
      "Epoch 100/100\n",
      "38/38 [==============================] - 4s 107ms/step - loss: 0.0029 - accuracy: 8.3472e-04\n"
     ]
    }
   ],
   "source": [
    "start=time.time()\n",
    "# Fitting the RNN to the Training set\n",
    "history=regressor.fit(X_train, y_train, epochs = 100, batch_size = 32)\n",
    "end=time.time()"
   ]
  },
  {
   "cell_type": "code",
   "execution_count": 10,
   "metadata": {},
   "outputs": [
    {
     "name": "stdout",
     "output_type": "stream",
     "text": [
      "It took '430.0952' seconds to to train the model\n"
     ]
    }
   ],
   "source": [
    "print(\"It took '{}' seconds to to train the model\".format(np.round(end-start,4)))"
   ]
  },
  {
   "cell_type": "markdown",
   "metadata": {},
   "source": [
    "## Εκτύπωση του loss του μοντελου μας"
   ]
  },
  {
   "cell_type": "code",
   "execution_count": 11,
   "metadata": {},
   "outputs": [
    {
     "data": {
      "image/png": "[encoded data removed]",
      "text/plain": [
       "<Figure size 432x288 with 1 Axes>"
      ]
     },
     "metadata": {
      "needs_background": "light"
     },
     "output_type": "display_data"
    }
   ],
   "source": [
    "plt.plot(history.history['loss'])\n",
    "plt.title('model loss')\n",
    "plt.ylabel('loss')\n",
    "plt.xlabel('epoch')\n",
    "plt.legend(['train', 'test'], loc='upper left')\n",
    "plt.show()"
   ]
  },
  {
   "cell_type": "markdown",
   "metadata": {},
   "source": [
    "## Visual Comparison"
   ]
  },
  {
   "cell_type": "code",
   "execution_count": 12,
   "metadata": {},
   "outputs": [
    {
     "data": {
      "image/png": "[encoded data removed]",
      "text/plain": [
       "<Figure size 432x288 with 1 Axes>"
      ]
     },
     "metadata": {
      "needs_background": "light"
     },
     "output_type": "display_data"
    }
   ],
   "source": [
    "dataset_test = pd.read_excel('Google_Stock_Price_Test.xlsx')\n",
    "real_stock_price = dataset_test['Close'].values\n",
    "\n",
    "\n",
    "# Getting the predicted stock price of 2017\n",
    "dataset_total = pd.concat((dataset_train['Close'], dataset_test['Close']), axis = 0)\n",
    "inputs = dataset_total[len(dataset_total) - len(dataset_test) - 60:].values\n",
    "inputs = inputs.reshape(-1,1)\n",
    "inputs = sc.transform(inputs)\n",
    "X_test = []\n",
    "for i in range(60, 80):\n",
    "    X_test.append(inputs[i-60:i, 0])\n",
    "X_test = np.array(X_test)\n",
    "X_test = np.reshape(X_test, (X_test.shape[0], X_test.shape[1], 1))\n",
    "predicted_stock_price = regressor.predict(X_test)\n",
    "predicted_stock_price = sc.inverse_transform(predicted_stock_price)\n",
    "\n",
    "\n",
    "\n",
    "\n",
    "# Visualising the results\n",
    "plt.plot(real_stock_price, color = 'red', label = 'Real Stock Price')\n",
    "plt.plot(predicted_stock_price, color = 'blue', label = 'Predicted Stock Price')\n",
    "plt.title('Stock Price Prediction')\n",
    "plt.xlabel('Time')\n",
    "plt.ylabel('Stock Price')\n",
    "plt.legend()\n",
    "plt.show()"
   ]
  },
  {
   "cell_type": "code",
   "execution_count": 13,
   "metadata": {},
   "outputs": [
    {
     "name": "stdout",
     "output_type": "stream",
     "text": [
      "[5.6987276]\n"
     ]
    }
   ],
   "source": [
    "total=0\n",
    "for i in range(0, len(real_stock_price)):\n",
    "    temp = real_stock_price[i]-predicted_stock_price[i]\n",
    "    total += abs(temp)\n",
    "    temp = 0\n",
    "\n",
    "real_error = total/len(real_stock_price)\n",
    "print(real_error)"
   ]
  },
  {
   "cell_type": "code",
   "execution_count": 14,
   "metadata": {},
   "outputs": [
    {
     "name": "stdout",
     "output_type": "stream",
     "text": [
      "7.529168076475977\n"
     ]
    }
   ],
   "source": [
    "import math\n",
    "from sklearn.metrics import mean_squared_error\n",
    "print(math.sqrt(mean_squared_error(real_stock_price, predicted_stock_price)))"
   ]
  }
 ],
 "metadata": {
  "kernelspec": {
   "display_name": "Python 3",
   "language": "python",
   "name": "python3"
  },
  "language_info": {
   "codemirror_mode": {
    "name": "ipython",
    "version": 3
   },
   "file_extension": ".py",
   "mimetype": "text/x-python",
   "name": "python",
   "nbconvert_exporter": "python",
   "pygments_lexer": "ipython3",
   "version": "3.8.5"
  }
 },
 "nbformat": 4,
 "nbformat_minor": 4
}
